{
  "nbformat": 4,
  "nbformat_minor": 0,
  "metadata": {
    "colab": {
      "provenance": [],
      "authorship_tag": "ABX9TyPEFhP+KOIWOJ57i0bnLqmP"
    },
    "kernelspec": {
      "name": "python3",
      "display_name": "Python 3"
    },
    "language_info": {
      "name": "python"
    }
  },
  "cells": [
    {
      "cell_type": "markdown",
      "source": [
        "### Dependencies & Prerequisites\n"
      ],
      "metadata": {
        "id": "RJZlYd9UXFQQ"
      }
    },
    {
      "cell_type": "code",
      "execution_count": null,
      "metadata": {
        "colab": {
          "base_uri": "https://localhost:8080/"
        },
        "id": "ZXb_dpRyLlsK",
        "outputId": "c866cf27-e202-4d7b-9686-a56365eb2902"
      },
      "outputs": [
        {
          "output_type": "stream",
          "name": "stdout",
          "text": [
            "Collecting pyDOE\n",
            "  Downloading pyDOE-0.3.8.zip (22 kB)\n",
            "  Preparing metadata (setup.py) ... \u001b[?25l\u001b[?25hdone\n",
            "Requirement already satisfied: numpy in /usr/local/lib/python3.10/dist-packages (from pyDOE) (1.25.2)\n",
            "Requirement already satisfied: scipy in /usr/local/lib/python3.10/dist-packages (from pyDOE) (1.11.4)\n",
            "Building wheels for collected packages: pyDOE\n",
            "  Building wheel for pyDOE (setup.py) ... \u001b[?25l\u001b[?25hdone\n",
            "  Created wheel for pyDOE: filename=pyDOE-0.3.8-py3-none-any.whl size=18168 sha256=93acb0ccecadd00fc8548d4b77b7f420849f596898414abf9b7601aa37163e2f\n",
            "  Stored in directory: /root/.cache/pip/wheels/ce/b6/d7/c6b64746dba6433c593e471e0ac3acf4f36040456d1d160d17\n",
            "Successfully built pyDOE\n",
            "Installing collected packages: pyDOE\n",
            "Successfully installed pyDOE-0.3.8\n"
          ]
        }
      ],
      "source": [
        "!pip install pyDOE"
      ]
    },
    {
      "cell_type": "code",
      "source": [
        "import numpy as np\n",
        "import matplotlib.pyplot as plt\n",
        "import tensorflow as tf\n",
        "from pyDOE import lhs\n",
        "import tensorflow_probability as tfp"
      ],
      "metadata": {
        "id": "S3-emDwMOmeZ"
      },
      "execution_count": null,
      "outputs": []
    },
    {
      "cell_type": "markdown",
      "source": [
        "### Introduction\n",
        "In this notebook, a physics informed neural network developed for one of the examples mentioned in this seminal paper [1]. tensorflow v2 was used and a simple function-based approch is selected to solve the problem. You can find a tensorflow v1 implementation here [2].\n",
        "\n",
        "1. <a href=\"\n",
        "https://doi.org/10.48550/arXiv.1711.10561\">Physics Informed Deep Learning (Part I): Data-driven Solutions of Nonlinear Partial Differential Equations </a>\n",
        "2. https://maziarraissi.github.io/PINNs/"
      ],
      "metadata": {
        "id": "QWXwGkZFrJKn"
      }
    },
    {
      "cell_type": "markdown",
      "source": [
        "### Data Preparation\n",
        "In this section, collection of data needed to train a PINN is prepared. Data consist of collocation points inside pde problem domain and also boundry and initial conditions."
      ],
      "metadata": {
        "id": "y1mUDB3eXQJv"
      }
    },
    {
      "cell_type": "code",
      "source": [
        "bc1_points = 25\n",
        "bc2_points = 25\n",
        "\n",
        "x0_bc1 = -1*np.ones((bc1_points,))\n",
        "x0_bc2 = np.ones((bc2_points,))\n",
        "\n",
        "t0_bc1 = np.linspace(0,1,bc1_points)\n",
        "t0_bc2 = np.linspace(0,1,bc2_points)\n",
        "\n",
        "u0_bc1 = np.zeros((bc1_points,))\n",
        "u0_bc2 = np.zeros((bc2_points,))"
      ],
      "metadata": {
        "id": "_PssZP01Ozul"
      },
      "execution_count": null,
      "outputs": []
    },
    {
      "cell_type": "code",
      "source": [
        "ic_points  = 50\n",
        "\n",
        "x0_ic = np.linspace(-1,1,ic_points)\n",
        "t0_ic = np.zeros(ic_points)\n",
        "u0_ic = -np.sin(np.pi*x0_ic)"
      ],
      "metadata": {
        "id": "82oL3VlYO1fi"
      },
      "execution_count": null,
      "outputs": []
    },
    {
      "cell_type": "code",
      "source": [
        "x0 = np.hstack([x0_ic,x0_bc1,x0_bc2]).reshape(-1,1).astype(np.float32)\n",
        "t0 = np.hstack([t0_ic,t0_bc1,t0_bc2]).reshape(-1,1).astype(np.float32)\n",
        "u0 = np.hstack([u0_ic,u0_bc1,u0_bc2]).reshape(-1,1).astype(np.float32)"
      ],
      "metadata": {
        "id": "1SaWN_cKO3AR"
      },
      "execution_count": null,
      "outputs": []
    },
    {
      "cell_type": "code",
      "source": [
        "collocation_points = 10000;\n",
        "lb = np.array([0,-1])\n",
        "ub = np.array([1,1])\n",
        "\n",
        "data =lb + (ub-lb)*lhs(2, collocation_points)\n",
        "\n",
        "# boundry and initial points should also obey pde\n",
        "tc = data[:,0]\n",
        "xc = data[:,1]\n",
        "# # preparation to be used in a neural net\n",
        "tc = tc.reshape(-1,1).astype(np.float32)\n",
        "xc = xc.reshape(-1,1).astype(np.float32)"
      ],
      "metadata": {
        "id": "7TAl4c32O5DB"
      },
      "execution_count": null,
      "outputs": []
    },
    {
      "cell_type": "code",
      "source": [
        "tc = np.vstack([t0,tc])\n",
        "xc = np.vstack([x0,xc])"
      ],
      "metadata": {
        "id": "1IOPFxh8O6bx"
      },
      "execution_count": null,
      "outputs": []
    },
    {
      "cell_type": "code",
      "source": [
        "t0 = tf.convert_to_tensor(t0)\n",
        "x0 = tf.convert_to_tensor(x0)\n",
        "u0 = tf.convert_to_tensor(u0)\n",
        "tc = tf.convert_to_tensor(tc)\n",
        "xc = tf.convert_to_tensor(xc)"
      ],
      "metadata": {
        "id": "LPbKg0X-P0KR"
      },
      "execution_count": null,
      "outputs": []
    },
    {
      "cell_type": "markdown",
      "source": [
        "### Neural Network Specification"
      ],
      "metadata": {
        "id": "dAa2ADeyO_hK"
      }
    },
    {
      "cell_type": "code",
      "source": [
        "# custom layer for scaling data based on the upper (ub) and lower (lb) bounds\n",
        "class ScaleLayer(tf.keras.layers.Layer):\n",
        "    def __init__(self, lb, ub, **kwargs):\n",
        "        super().__init__(**kwargs)\n",
        "        self.lb = lb\n",
        "        self.ub = ub\n",
        "\n",
        "    def call(self, inputs):\n",
        "        return 2.0*(inputs - self.lb)/(self.ub - self.lb) - 1.0"
      ],
      "metadata": {
        "id": "0rIbp1YUPAjR"
      },
      "execution_count": null,
      "outputs": []
    },
    {
      "cell_type": "code",
      "source": [
        "model = tf.keras.Sequential([\n",
        "    ScaleLayer(lb, ub),\n",
        "    tf.keras.layers.Dense(20,activation='tanh'),\n",
        "    tf.keras.layers.Dense(20,activation='tanh'),\n",
        "    tf.keras.layers.Dense(20,activation='tanh'),\n",
        "    tf.keras.layers.Dense(20,activation='tanh'),\n",
        "    tf.keras.layers.Dense(20,activation='tanh'),\n",
        "    tf.keras.layers.Dense(20,activation='tanh'),\n",
        "    tf.keras.layers.Dense(20,activation='tanh'),\n",
        "    tf.keras.layers.Dense(20,activation='tanh'),\n",
        "    tf.keras.layers.Dense(1, activation='linear')\n",
        "])"
      ],
      "metadata": {
        "id": "wuZy_PyfPDKA"
      },
      "execution_count": null,
      "outputs": []
    },
    {
      "cell_type": "code",
      "source": [
        "def mse_f(t,x):\n",
        "    c=1\n",
        "    with tf.GradientTape(persistent=True) as tape:\n",
        "      tape.watch(t)\n",
        "      tape.watch(x)\n",
        "\n",
        "      u = model(tf.concat([t,x],axis=1))\n",
        "      u_x = tape.gradient(u,x)\n",
        "      u_t = tape.gradient(u,t)\n",
        "    u_xx = tape.gradient(u_x, x)\n",
        "    u_tt = tape.gradient(u_t,t)\n",
        "    del tape\n",
        "    return tf.reduce_mean(tf.square(u_t + u*u_x - (0.01/np.pi)*u_xx));"
      ],
      "metadata": {
        "id": "737UyhRAPFnR"
      },
      "execution_count": null,
      "outputs": []
    },
    {
      "cell_type": "code",
      "source": [
        "def mse_u(t0,x0,u0):\n",
        "    u0_pred = model(tf.concat([t0,x0],axis=1))\n",
        "    return tf.reduce_mean(tf.square(u0-u0_pred))"
      ],
      "metadata": {
        "id": "PQ85bu6rPJXR"
      },
      "execution_count": null,
      "outputs": []
    },
    {
      "cell_type": "code",
      "source": [
        "@tf.function()\n",
        "def compute_loss(t,x,t0,x0,u0):\n",
        "    print('Tracing') # checking for graph execution\n",
        "    return mse_f(t,x) + mse_u(t0,x0,u0)"
      ],
      "metadata": {
        "id": "ywKD_VDmPKxY"
      },
      "execution_count": null,
      "outputs": []
    },
    {
      "cell_type": "code",
      "source": [
        "# this line just randomly initialize the weights on tensorflow model\n",
        "model(t0,x0);"
      ],
      "metadata": {
        "id": "DvLoz2tqQsOp"
      },
      "execution_count": null,
      "outputs": []
    },
    {
      "cell_type": "code",
      "source": [
        "# to be able to feed the optimizer with weights we have to flatten weights and biases\n",
        "# and then feed them to optimizer and after that to set weights for the nn model we have\n",
        "# to rearrange weights and biases again\n",
        "w_start = tf.concat( [ tf.reshape(t, [-1]) for t in model.get_weights()] , 0)\n",
        "w_shape = [ t.shape for t in model.get_weights()]"
      ],
      "metadata": {
        "id": "4SAY-kSAPVhI"
      },
      "execution_count": null,
      "outputs": []
    },
    {
      "cell_type": "code",
      "source": [
        "def loss_and_gradient_net(w0):\n",
        "  counter = 0\n",
        "  w_n = []\n",
        "  for s in w_shape:\n",
        "    n=np.prod(s)\n",
        "    w_n.append( tf.reshape(w0[counter:counter+n],s) )\n",
        "    counter+=n\n",
        "  model.set_weights(w_n)\n",
        "  del w_n\n",
        "  with tf.GradientTape() as tape:\n",
        "    loss = compute_loss(tc,xc,t0,x0,u0)\n",
        "\n",
        "  grad = tape.gradient(loss, model.trainable_variables)\n",
        "  # print(grad)\n",
        "  grad = tf.concat( [ tf.reshape(t, [-1]) for t in grad] , 0)\n",
        "  return loss, grad"
      ],
      "metadata": {
        "id": "SzIeCJE2Pk3E"
      },
      "execution_count": null,
      "outputs": []
    },
    {
      "cell_type": "code",
      "source": [
        "loss_and_gradient_net(w_start)"
      ],
      "metadata": {
        "colab": {
          "base_uri": "https://localhost:8080/"
        },
        "id": "hpp57q2dQFxw",
        "outputId": "1065fda1-4ead-4f71-a02c-93d12f3904d0"
      },
      "execution_count": null,
      "outputs": [
        {
          "output_type": "stream",
          "name": "stdout",
          "text": [
            "Tracing\n"
          ]
        },
        {
          "output_type": "stream",
          "name": "stderr",
          "text": [
            "WARNING:tensorflow:Calling GradientTape.gradient on a persistent tape inside its context is significantly less efficient than calling it outside the context (it causes the gradient ops to be recorded on the tape, leading to increased CPU and memory usage). Only call GradientTape.gradient inside the context if you actually want to trace the gradient in order to compute higher order derivatives.\n"
          ]
        },
        {
          "output_type": "execute_result",
          "data": {
            "text/plain": [
              "(<tf.Tensor: shape=(), dtype=float32, numpy=0.6317215>,\n",
              " <tf.Tensor: shape=(3021,), dtype=float32, numpy=\n",
              " array([ 0.00314984,  0.11650954,  0.2099103 , ...,  0.22954947,\n",
              "        -0.6902945 , -0.22388004], dtype=float32)>)"
            ]
          },
          "metadata": {},
          "execution_count": 19
        }
      ]
    },
    {
      "cell_type": "code",
      "source": [
        "optim_results = tfp.optimizer.lbfgs_minimize(\n",
        "    loss_and_gradient_net,\n",
        "    initial_position=w_start,\n",
        "    num_correction_pairs=10,\n",
        "    max_iterations=3000,\n",
        "    tolerance=1e-6)"
      ],
      "metadata": {
        "id": "E9-KT3xgQJrY"
      },
      "execution_count": null,
      "outputs": []
    },
    {
      "cell_type": "code",
      "source": [
        "loss_and_gradient_net(optim_results.position)"
      ],
      "metadata": {
        "colab": {
          "base_uri": "https://localhost:8080/"
        },
        "id": "FDzxURM5RJw4",
        "outputId": "1c0e81bd-ef73-4810-d0d3-2223cc915d50"
      },
      "execution_count": null,
      "outputs": [
        {
          "output_type": "execute_result",
          "data": {
            "text/plain": [
              "(<tf.Tensor: shape=(), dtype=float32, numpy=8.9932066e-05>,\n",
              " <tf.Tensor: shape=(3021,), dtype=float32, numpy=\n",
              " array([-2.6910153e-04, -1.9550449e-04, -5.7910005e-05, ...,\n",
              "        -7.3086718e-05, -3.8641563e-05, -1.7544659e-04], dtype=float32)>)"
            ]
          },
          "metadata": {},
          "execution_count": 23
        }
      ]
    },
    {
      "cell_type": "markdown",
      "source": [
        "### Results"
      ],
      "metadata": {
        "id": "M-kCJ8-2YTvH"
      }
    },
    {
      "cell_type": "code",
      "source": [
        "# plot\n",
        "d_t = 0.01\n",
        "d_x = 0.01\n",
        "x_v = np.arange(-1, 1, d_t)\n",
        "t_v = np.arange(0, 1, d_x)\n",
        "X, T = np.meshgrid(x_v, t_v)\n",
        "_shape = X.shape"
      ],
      "metadata": {
        "id": "UsAK6Q5tRa2U"
      },
      "execution_count": null,
      "outputs": []
    },
    {
      "cell_type": "code",
      "source": [
        "X = X.reshape(-1,1).astype(np.float32)\n",
        "T = T.reshape(-1,1).astype(np.float32)\n",
        "u_pred = model(tf.concat([T,X],axis=1))\n",
        "X, T = np.meshgrid(x_v, t_v)\n",
        "u_pred=u_pred.numpy().reshape(X.shape)"
      ],
      "metadata": {
        "id": "qIUgJFamWiRI"
      },
      "execution_count": null,
      "outputs": []
    },
    {
      "cell_type": "code",
      "source": [
        "fig, axs = plt.subplots(1,1, figsize=(8, 2))\n",
        "plt.xlabel('t'); plt.ylabel('x')\n",
        "CS = axs.contourf(T, X, u_pred, cmap = 'Greys')\n",
        "cbar = fig.colorbar(CS)\n",
        "cbar.ax.set_ylabel('u');"
      ],
      "metadata": {
        "colab": {
          "base_uri": "https://localhost:8080/",
          "height": 239
        },
        "id": "JYTkoam3WqJV",
        "outputId": "cab43d1c-335d-45dd-de3e-e854292c67e9"
      },
      "execution_count": null,
      "outputs": [
        {
          "output_type": "display_data",
          "data": {
            "text/plain": [
              "<Figure size 800x200 with 2 Axes>"
            ],
            "image/png": "[encoded data removed]"
          },
          "metadata": {}
        }
      ]
    },
    {
      "cell_type": "code",
      "source": [
        "x_v1 = tf.convert_to_tensor(x_v.reshape(-1,1).astype(np.float32))\n",
        "\n",
        "y_025=model(tf.concat([tf.ones_like(x_v1)*0.25,x_v1],axis=1))\n",
        "y_05=model(tf.concat([tf.ones_like(x_v1)*0.5,x_v1],axis=1))\n",
        "y_075=model(tf.concat([tf.ones_like(x_v1)*0.75,x_v1],axis=1))"
      ],
      "metadata": {
        "id": "vD5ooliGWrxM"
      },
      "execution_count": null,
      "outputs": []
    },
    {
      "cell_type": "code",
      "source": [
        "\n",
        "plt.plot(x_v1,y_025,label=\"t = 0.25\")\n",
        "plt.plot(x_v1,y_05, label=\"t = 0.5\")\n",
        "plt.plot(x_v1,y_075, label=\"t = 0.75\")\n",
        "plt.legend()\n",
        "plt.title('Snapshots');\n",
        "plt.xlabel('x'); plt.ylabel('u');\n"
      ],
      "metadata": {
        "colab": {
          "base_uri": "https://localhost:8080/",
          "height": 472
        },
        "id": "fipdI2q0W3no",
        "outputId": "f11b09ce-4b7d-4f7a-ac8e-57ee1b8e6020"
      },
      "execution_count": null,
      "outputs": [
        {
          "output_type": "display_data",
          "data": {
            "text/plain": [
              "<Figure size 640x480 with 1 Axes>"
            ],
            "image/png": "[encoded data removed]"
          },
          "metadata": {}
        }
      ]
    },
    {
      "cell_type": "code",
      "source": [],
      "metadata": {
        "id": "9YESjVx-W6Uw"
      },
      "execution_count": null,
      "outputs": []
    }
  ]
}