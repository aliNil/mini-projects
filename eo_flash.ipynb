{
  "nbformat": 4,
  "nbformat_minor": 0,
  "metadata": {
    "colab": {
      "provenance": [],
      "authorship_tag": "ABX9TyOZLQlI9soCUlT73vFZr6LT"
    },
    "kernelspec": {
      "name": "python3",
      "display_name": "Python 3"
    },
    "language_info": {
      "name": "python"
    }
  },
  "cells": [
    {
      "cell_type": "code",
      "source": [
        "#@title Installation of necessary liberies and solver\n",
        "!wget -N -q \"https://matematica.unipv.it/gualandi/solvers/ipopt-linux64.zip\"\n",
        "!unzip -o -q ipopt-linux64\n",
        "!pip install -q pyomo\n",
        "\n",
        "\n",
        "%matplotlib inline\n",
        "\n",
        "import matplotlib.pyplot as plt\n",
        "import numpy as np\n",
        "\n",
        "import shutil\n",
        "import sys\n",
        "import os.path\n",
        "\n",
        "assert(shutil.which(\"ipopt\") or os.path.isfile(\"ipopt\"))\n",
        "import pyomo.environ as pyo"
      ],
      "metadata": {
        "cellView": "form",
        "id": "AEydM5BMieUP",
        "colab": {
          "base_uri": "https://localhost:8080/"
        },
        "outputId": "54868f99-35fc-440d-b5fc-7caa3ce58a7a"
      },
      "execution_count": null,
      "outputs": [
        {
          "output_type": "stream",
          "name": "stdout",
          "text": [
            "\u001b[2K     \u001b[90m━━━━━━━━━━━━━━━━━━━━━━━━━━━━━━━━━━━━━━━━\u001b[0m \u001b[32m11.9/11.9 MB\u001b[0m \u001b[31m24.0 MB/s\u001b[0m eta \u001b[36m0:00:00\u001b[0m\n",
            "\u001b[2K     \u001b[90m━━━━━━━━━━━━━━━━━━━━━━━━━━━━━━━━━━━━━━━━\u001b[0m \u001b[32m49.6/49.6 kB\u001b[0m \u001b[31m4.9 MB/s\u001b[0m eta \u001b[36m0:00:00\u001b[0m\n",
            "\u001b[?25h"
          ]
        }
      ]
    },
    {
      "cell_type": "markdown",
      "source": [
        "# Flash Calculation Using Cubic Equation of State in an Equation Oriented Way\n",
        "In this notebook, the problem related to flash calacuation and isolation of approperiate roots in cubic equations of state without causing discountinuity in flash problem formulation is addresed based on works done by Kamath et all and Dowling et all. Traditionally, when there is a possibilty of phase change, it is needed to check roots of cubic equations of state with logical conditions (if and else statements) to check whether there is a phase change or not. The purpose here is to relax equilibrium condition when we are out of two phase region( only liquid or vapor).\n",
        "Using powerfull algebraic modeling language Pyomo and interior point solver Ipopt the stated problem is addressed.\n",
        "\n",
        "\n",
        "<img src='https://www.pi-research.org/publication/e_001_schweidtmann-et-al-2019-escape/featured.jpg' alter='flash tank image'>\n"
      ],
      "metadata": {
        "id": "6Z3jXp4D3fvW"
      }
    },
    {
      "cell_type": "markdown",
      "source": [
        "### Theoritical background\n",
        "*   #### Solving flash problem\n",
        "        \n",
        "  The problem formualtion is written in the following:\n",
        "\n",
        "  1. $\\: n_f = n_l + n_v, $\n",
        "  1. $\\: n_f\\:z_i = n_l\\:x_i + n_v\\:y_i,\\quad i =1,...,n $\n",
        "  1. $\\: n_f\\:h_f = n_l\\:h_l + n_v\\:h_v + Q,\\quad i =1,...,n $\n",
        "  1. $\\: y_i = k_i (P, T, x) x_i,\\quad i = 1,...,n $\n",
        "  1. $\\: \\sum_{i=1}^{n} x_i - \\sum_{i=1}^{n} y_i =0,\\quad i =1,...,n $\n",
        "  1. $\\: \\beta-1 = s_V - s_L,\\quad i =1,...,n $\n",
        "  1. $\\: −s_L \\leq \\beta-1 \\leq s_V,\\quad i =1,...,n $\n",
        "  1. $\\: f(z_v)=0, $\n",
        "  1. $\\: f'(z_v)\\geq 0 , $\n",
        "  1. $\\: f''(z_v)\\geq-Ms_V , $\n",
        "  1. $\\: f(z_l)=0, $\n",
        "  1. $\\: f'(z_v)\\geq 0 , $\n",
        "  1. $\\: f''(z_v)\\leq Ms_L , $\n",
        "\n",
        "  where $ k_i= \\phi^l_i / \\phi^v_i  \\quad and \\quad f(z) = z^3 + a_1z^2 + a_2z + a_3  $\n",
        "\n",
        "  the objective function for optimization is:\n",
        "\n",
        "  $ \\rho(s_vn_v+s_ln_l) $\n",
        "\n",
        "\n",
        "\n",
        "\n",
        "*   #### Equation of state\n",
        "\n",
        "  $\\: f(z)\\: and \\: \\phi_i $ should be calculated using a cubic equation of state. Here Peng-Robinson method is selected for calcuation of $z_l \\:and\\: z_v$.\n",
        "  To do this, there are some utility function written in accordance to Pyomo syntax to calculate mentioned quantities.\n"
      ],
      "metadata": {
        "id": "XRQicqDE-tEE"
      }
    },
    {
      "cell_type": "markdown",
      "source": [
        "## Utility functions to calculate  $\\: f(z)\\: and \\: \\phi_i $"
      ],
      "metadata": {
        "id": "1E9YQmklmcoB"
      }
    },
    {
      "cell_type": "code",
      "source": [
        "def zfactor(a, b, z):\n",
        "  # Calculate the coefficients of cubic equation of state.\n",
        "\n",
        "  a1 = 1\n",
        "  a2 = b - 1\n",
        "  a3 = a - 2*b - 3*b**2\n",
        "  a4 = -a*b + b**2 + b**3\n",
        "  # Choose the real roots.\n",
        "  f = a1*z**3 + a2*z**2 + a3*z + a4\n",
        "  df = 3*a1*z**2 + 2*a2*z + a3\n",
        "  d2f = 6*a1*z + 2*a2\n",
        "\n",
        "  return (f,df,d2f)\n",
        "\n",
        "\n",
        "def calcab_multicomp(press, temp, pressc, tempc, acentric):\n",
        "  # calculate multicomponent mixture parameters\n",
        "\n",
        "  ncomp = pressc.shape[0]\n",
        "  m = []\n",
        "  b = np.zeros((ncomp,1))\n",
        "  omegaa = 0.45724\n",
        "  omegab = 0.0778\n",
        "  R = 8.314;\n",
        "\n",
        "  for i in range(ncomp):\n",
        "      # Calculate m.\n",
        "      if acentric[i] > 0.49:\n",
        "          m.append(0.379642 + 1.48503*acentric[i] - 0.164423*acentric[i]**2 + 0.016666*acentric[i]**3)\n",
        "      else:\n",
        "          m.append(0.37464 + 1.54226*acentric[i] - 0.26992*acentric[i]**2)\n",
        "\n",
        "  # Calculate reduced pressure and temperature.\n",
        "  pressr = (press/pressc)\n",
        "  tempr = (temp/tempc)\n",
        "  # Calculate alpha.\n",
        "  alpha = [( 1 + m[i]*(1 - pyo.sqrt(temp)/pyo.sqrt(tempc[i])))**2 for i in range(ncomp)]\n",
        "\n",
        "  A = [omegaa*alpha[i]*pressr[i]/tempr[i]**2 for i in range(ncomp)]\n",
        "  B = [omegab*pressr[i]/tempr[i] for i in range(ncomp)]\n",
        "  a = [omegaa*(R*(tempc[i]))**2/pressc[i]*alpha[i] for i in range(ncomp)]\n",
        "  b = [omegab*R*tempc[i]/pressc[i] for i in range(ncomp)]\n",
        "\n",
        "  da = [-m[i]*omegaa*(R*(tempc[i]))**2/pressc[i]*pyo.sqrt(alpha[i])/(pyo.sqrt((temp)*(tempc[i]))) for i in range(ncomp)]\n",
        "\n",
        "  return (A, B, a, b, da)\n",
        "\n",
        "\n",
        "def calcabmix(comp, A, B, BIP, a, b, da):\n",
        "\n",
        "  ncomp = len(comp);\n",
        "  # Calculate mixture parameters\n",
        "\n",
        "  Aij = np.zeros((ncomp, ncomp))\n",
        "  aij = np.zeros((ncomp, ncomp))\n",
        "  damix = np.zeros((ncomp, ncomp))\n",
        "\n",
        "  Amix = sum([comp[i]*comp[j]*pyo.sqrt(A[i]*A[j])*(1-BIP[i,j]) for i in range(ncomp) for j in range(ncomp)])\n",
        "  amix = sum([comp[i]*comp[j]*pyo.sqrt(a[i]*a[j])*(1-BIP[i,j]) for i in range(ncomp) for j in range(ncomp)])\n",
        "  dadT = sum([comp[i]*comp[j]*0.5/(pyo.sqrt(a[i]*a[j]))*(da[i]*a[j] + a[i]*da[j]) for i in range(ncomp) for j in range(ncomp)])\n",
        "\n",
        "  bmix = sum([comp[i]*b[i] for i in range(ncomp)])\n",
        "  Bmix = sum([comp[i]*B[i] for i in range(ncomp)])\n",
        "\n",
        "  Amix2 = [sum([comp[j]*pyo.sqrt(A[i]*A[j])*(1-BIP[i,j]) for j in range(ncomp)]) for i in range(ncomp)]\n",
        "\n",
        "  return (Amix, Bmix, Amix2, amix,bmix, dadT)\n",
        "\n",
        "def calcfugcoef_multicomp(zfactor, A, B, Amix, Bmix, Amix2):\n",
        "  # fugacity calculation using Peng-Robinson eos\n",
        "\n",
        "  ncomp = 5\n",
        "  c0 = 2*np.sqrt(2)\n",
        "  c1 = 1 + np.sqrt(2)\n",
        "  c2 = 1 - np.sqrt(2)\n",
        "\n",
        "  fugcoef = [pyo.exp( B[i]/Bmix*(zfactor - 1) - pyo.log(zfactor - Bmix) \\\n",
        "                   - Amix/(c0*Bmix) * (2*Amix2[i]/Amix - B[i]/Bmix) \\\n",
        "                     *pyo.log((zfactor + c1*Bmix)/(zfactor + c2*Bmix)) ) \\\n",
        "           for i in range(ncomp)]\n",
        "\n",
        "  return fugcoef\n",
        "\n",
        "\n",
        "def h_ig_calc(comp, temp):\n",
        "  # enthalpy calculation for an ideal gas mixture\n",
        "  ncomp = len(comp)\n",
        "  a = [0, 0, 0, 0, 0];\n",
        "  b = np.array([2.94, 3.80, 3.47, 3.20,4.61])*10\n",
        "  c = np.array([-1.09e-1, -3.73, -1.84, 2.13, 2.30])*10**-2\n",
        "  d = np.array([1.94e-7, 1.01e-4, 1.57e-4, 1.67e-4, 2.23e-4])\n",
        "  e = np.array([3.26e-9, -7.08e-8, -1.38e-7, -1.64e-7, -2.20e-7])\n",
        "  f = np.array([-1.65e-12, 1.81e-11, 4.14e-11, 5.12e-11, 6.87e-11])\n",
        "\n",
        "  h_ig_i = a + b*temp + c*temp**2 + d*temp**3 + e*temp**4 + f*temp**5\n",
        "  hig = sum([comp[i]*h_ig_i[i] for i in range(ncomp)])\n",
        "\n",
        "  return hig\n",
        "\n",
        "\n",
        "def h_calc(comp, temp, zfactor, Amix, Bmix, amix, bmix, dadT):\n",
        "  # enthalpy calculation for a real fluid\n",
        "\n",
        "  R = 8.314\n",
        "  c0 = 2*np.sqrt(2)\n",
        "  c1 = 1 + np.sqrt(2)\n",
        "  c2 = 1 - np.sqrt(2)\n",
        "\n",
        "  h_res = R*temp*(zfactor-1)-1/(c0*bmix)*(amix - temp*dadT)*pyo.log((zfactor + c1*Bmix)/(zfactor + c2*Bmix))\n",
        "  h = (h_ig_calc(comp ,temp) + h_res)/10000\n",
        "\n",
        "  return h\n",
        "\n",
        "\n"
      ],
      "metadata": {
        "id": "CzBd8bxO30JF"
      },
      "execution_count": null,
      "outputs": []
    },
    {
      "cell_type": "markdown",
      "source": [
        "## Defintion of the flash model within Pyomo\n",
        "This function gives us a mathematical model that can be used in an appropriate solver"
      ],
      "metadata": {
        "id": "pcIgLucLmu3j"
      }
    },
    {
      "cell_type": "code",
      "source": [
        "def flash_calcualtion(feed, init_values, flash_spec, constants, mode='tp', rho=1000, M=1e3):\n",
        "  # mathematical formulation for flash calculation\n",
        "  z = feed['comp']; F = feed['F']\n",
        "  press = feed['Pin']; h_feed = feed['hin']\n",
        "  ncomp = len(z)\n",
        "  pressc=constants['Pcs']; tempc=constants['Tcs'];\n",
        "  acentric = constants['omegas']; BIP = constants['kijs']\n",
        "\n",
        "  m = pyo.ConcreteModel()\n",
        "  # variables\n",
        "  m.i = pyo.RangeSet(0,ncomp-1)\n",
        "  m.V = pyo.Var(initialize=init_values[0], domain=pyo.NonNegativeReals)\n",
        "  m.s_l = pyo.Var(initialize=init_values[1], domain=pyo.NonNegativeReals)\n",
        "  m.s_v = pyo.Var(initialize=init_values[2], domain=pyo.NonNegativeReals)\n",
        "  m.beta = pyo.Var(initialize=init_values[3], domain=pyo.NonNegativeReals)\n",
        "  m.z_l = pyo.Var(initialize=init_values[4], domain=pyo.NonNegativeReals)\n",
        "  m.z_v = pyo.Var(initialize=init_values[5], domain=pyo.NonNegativeReals)\n",
        "  m.x = pyo.Var(m.i, initialize=init_values[6], domain=pyo.NonNegativeReals, bounds=(0,1) )\n",
        "  m.y = pyo.Var(m.i, initialize=init_values[7], domain=pyo.NonNegativeReals, bounds=(0,1))\n",
        "\n",
        "  if mode.lower() == 'pq' or mode.lower() == 'qp':\n",
        "    Q = flash_spec['Q']\n",
        "    m.T = pyo.Var(initialize=flash_spec['T']/300, domain=pyo.NonNegativeReals,bounds=(1e-8, 1.5))\n",
        "  elif mode.lower() == 'pt' or mode.lower() == 'tp':\n",
        "    m.T = pyo.Param(initialize=flash_spec['T'])\n",
        "    m.Q = pyo.Var(initialize=flash_spec['Q'])\n",
        "  else:\n",
        "    print(\"Select one of these two options \\n mode='tp' --> TP flash \\n mode='qp' --> QP flash\")\n",
        "\n",
        "  m.J = pyo.Objective(expr = rho*(m.V*m.s_v + (1-m.V)*m.s_l), sense=pyo.minimize)\n",
        "\n",
        "  # expersion calculation based on current values\n",
        "  if mode.lower() == 'pq' or mode.lower() == 'qp':\n",
        "    (A, B, a, b, da) = calcab_multicomp(press, m.T*300, pressc, tempc, acentric)\n",
        "    (Amix_l, Bmix_l, Amix2_l, amix_l, bmix_l, dadT_l) = calcabmix(m.x, A, B, BIP, a, b, da)\n",
        "    (Amix_v, Bmix_v, Amix2_v, amix_v, bmix_v, dadT_v) = calcabmix(m.y, A, B, BIP, a, b, da)\n",
        "    h_l = h_calc(m.x, m.T*300, m.z_l, Amix_l, Bmix_l, amix_l, bmix_l, dadT_l)\n",
        "    h_v = h_calc(m.y, m.T*300, m.z_v, Amix_v, Bmix_v, amix_v, bmix_v, dadT_v)\n",
        "    phi_l = calcfugcoef_multicomp(m.z_l, A, B, Amix_l, Bmix_l, Amix2_l)\n",
        "    phi_v = calcfugcoef_multicomp(m.z_v, A, B, Amix_v, Bmix_v, Amix2_v)\n",
        "\n",
        "  elif mode.lower() == 'pt' or mode.lower() == 'tp':\n",
        "    (A, B, a, b, da) = calcab_multicomp(press, m.T, pressc, tempc, acentric)\n",
        "    (Amix_l, Bmix_l, Amix2_l, amix_l, bmix_l, dadT_l) = calcabmix(m.x, A, B, BIP, a, b, da)\n",
        "    (Amix_v, Bmix_v, Amix2_v, amix_v, bmix_v, dadT_v) = calcabmix(m.y, A, B, BIP, a, b, da)\n",
        "    h_l = h_calc(m.x, m.T, m.z_l, Amix_l, Bmix_l, amix_l, bmix_l, dadT_l)\n",
        "    h_v = h_calc(m.y, m.T, m.z_v, Amix_v, Bmix_v, amix_v, bmix_v, dadT_v)\n",
        "    phi_l = calcfugcoef_multicomp(m.z_l, A, B, Amix_l, Bmix_l, Amix2_l)\n",
        "    phi_v = calcfugcoef_multicomp(m.z_v, A, B, Amix_v, Bmix_v, Amix2_v)\n",
        "\n",
        "\n",
        "  # equalities\n",
        "  m.eq2 = pyo.Constraint(m.i, rule= lambda m,i: F*z[i] == (1-m.V)*m.x[i] + m.V*m.y[i])\n",
        "  m.eq31 = pyo.Constraint(expr = sum([m.x[c] for c in m.i]) -1 == 0)\n",
        "  m.eq32 = pyo.Constraint(expr = sum([m.x[c] for c in m.i]) -1 == 0)\n",
        "  m.eq4 = pyo.Constraint(rule = lambda m,i: zfactor(Amix_l, Bmix_l, m.z_l)[0] == 0 )\n",
        "  m.eq5 = pyo.Constraint(rule = lambda m,i: zfactor(Amix_v, Bmix_v, m.z_v)[0] == 0 )\n",
        "  m.eq6 = pyo.Constraint(m.i, rule= lambda m,i: m.y[i] == m.beta*(phi_l[i]/phi_v[i])*m.x[i])\n",
        "  if mode.lower() == 'pq' or mode.lower() == 'qp':\n",
        "    m.eq7 = pyo.Constraint(rule = lambda m,i: F*h_feed == (1-m.V)*h_l + m.V*h_v - Q)\n",
        "  elif mode.lower() == 'pt' or mode.lower() == 'tp':\n",
        "    m.eq7 = pyo.Constraint(rule = lambda m,i: F*h_feed == (1-m.V)*h_l + m.V*h_v - m.Q)\n",
        "\n",
        "\n",
        "\n",
        "  # inequalities\n",
        "  m.ieq1 = pyo.Constraint(expr = -m.s_l <= m.beta-1)\n",
        "  m.ieq2 = pyo.Constraint(expr = m.beta-1 <= m.s_v)\n",
        "  m.ieq3 = pyo.Constraint(rule = lambda m,i: -M*m.s_v <= zfactor(Amix_v, Bmix_v, m.z_v)[2] )\n",
        "  m.ieq4 = pyo.Constraint(rule = lambda m,i: M*m.s_l >= zfactor(Amix_l, Bmix_l, m.z_l)[2] )\n",
        "  m.ieq5 = pyo.Constraint(rule = lambda m,i: 0 <= zfactor(Amix_v, Bmix_v, m.z_v)[1] )\n",
        "  m.ieq6 = pyo.Constraint(rule = lambda m,i: 0 <= zfactor(Amix_l, Bmix_l, m.z_l)[1] )\n",
        "  m.ieq7 = pyo.Constraint(expr = m.V <= F )\n",
        "\n",
        "  return m\n"
      ],
      "metadata": {
        "id": "k3niH2Eoib2b"
      },
      "execution_count": null,
      "outputs": []
    },
    {
      "cell_type": "markdown",
      "source": [
        "## Determination of flash problem inputs\n",
        "In the following flash calculation for an example is shown to determine the effectivness of the solution. The feed stream to flash seprator is a mixture of nitrogen, methane, ethane, propane, n-butane. Some parameters and constants are needed in order to provide flash calcualtion with data related to components.These data belong to that are extrated from references.\n",
        "Also, the flash problme need specification to calculate the properties of outlet vapor and liquid stream. Here, two modes are defined TP and QP flash. By inserting suitable specs and inputs to the flash calculation routine, it can provide solution to the problem effectively.  "
      ],
      "metadata": {
        "id": "HENRN8ywnUyw"
      }
    },
    {
      "cell_type": "code",
      "source": [
        "# a mixture of gas with related data\n",
        "\n",
        "pressc = np.array([33.944, 46.407, 48.839, 42.567, 37.966])*1e5\n",
        "tempc = np.array([126.194, 190.699, 305.428, 369.898, 425.199])\n",
        "acentric = np.array([4.00e-2, 1.15e-2, 9.86e-2, 0.1524, 0.2010])\n",
        "BIP = np.array([[0.0, 0.0289, 0.0533, 0.0878, 0.0711],\n",
        "    [0.0289, 0.0, -0.0059, 0.0119, 0.0185],\n",
        "    [0.0533, -0.0059, 0.0, 0.0011, 0.0089],\n",
        "    [0.0878, 0.0119, 0.0011, 0.0, 0.0033],\n",
        "    [0.0711, 0.0185, 0.0089, 0.0033, 0.0] ])\n",
        "\n",
        "constants = {'Pcs': pressc, 'Tcs': tempc, 'omegas': acentric, 'kijs': BIP}\n",
        "feed = {'comp':[0.025, 0.65, 0.15, 0.15 ,0.025], 'F':1, 'Tin':300, 'Pin':55e5,'hin':9.2225e3/10000}\n",
        "\n",
        "# initial guess for optimization problem\n",
        "V = 1;\n",
        "s_l = 5.2879;\n",
        "s_v = 0;\n",
        "beta = 0.94;\n",
        "z_l = 0.19;\n",
        "z_v = 0.7414;\n",
        "x = {0:0.0060, 1:0.2840, 2:0.1817, 3:0.3895 ,4: 0.1388}\n",
        "y = {0:0.025, 1:0.65, 2:0.15, 3:0.15 ,4:0.025}\n",
        "init_values = [V, s_l, s_v, beta, z_l, z_v, x, y]\n",
        "\n",
        "flash_spec = {'Q':-6000/10000, 'T':260} # in the case of TP flash Q is used for an initial guess in the prblem and in the case of QP flash T is used for an initial guess\n",
        "\n",
        "model = flash_calcualtion(feed, init_values, flash_spec, constants, mode='pq', rho=9e5, M=1e20)"
      ],
      "metadata": {
        "id": "uak4-0jNTl8O"
      },
      "execution_count": null,
      "outputs": []
    },
    {
      "cell_type": "code",
      "source": [
        "# designation of ipopt as the solver\n",
        "solver = pyo.SolverFactory('ipopt')\n",
        "\n",
        "# flash calculation\n",
        "solver.solve(model)\n",
        "\n",
        "# solution details\n",
        "model.display()"
      ],
      "metadata": {
        "colab": {
          "base_uri": "https://localhost:8080/"
        },
        "id": "EDkVqvtzXZn_",
        "outputId": "ce90571d-3a73-49a4-94b4-a8ebb951ff53"
      },
      "execution_count": null,
      "outputs": [
        {
          "output_type": "stream",
          "name": "stdout",
          "text": [
            "Model unknown\n",
            "\n",
            "  Variables:\n",
            "    V : Size=1, Index=None\n",
            "        Key  : Lower : Value              : Upper : Fixed : Stale : Domain\n",
            "        None :     0 : 0.5901058839176578 :  None : False : False : NonNegativeReals\n",
            "    s_l : Size=1, Index=None\n",
            "        Key  : Lower : Value                 : Upper : Fixed : Stale : Domain\n",
            "        None :     0 : 9.077189871454817e-12 :  None : False : False : NonNegativeReals\n",
            "    s_v : Size=1, Index=None\n",
            "        Key  : Lower : Value                 : Upper : Fixed : Stale : Domain\n",
            "        None :     0 : 8.404313961913697e-12 :  None : False : False : NonNegativeReals\n",
            "    beta : Size=1, Index=None\n",
            "        Key  : Lower : Value              : Upper : Fixed : Stale : Domain\n",
            "        None :     0 : 1.0000000000651201 :  None : False : False : NonNegativeReals\n",
            "    z_l : Size=1, Index=None\n",
            "        Key  : Lower : Value              : Upper : Fixed : Stale : Domain\n",
            "        None :     0 : 0.1752893509365845 :  None : False : False : NonNegativeReals\n",
            "    z_v : Size=1, Index=None\n",
            "        Key  : Lower : Value             : Upper : Fixed : Stale : Domain\n",
            "        None :     0 : 0.689833359849698 :  None : False : False : NonNegativeReals\n",
            "    x : Size=5, Index=i\n",
            "        Key : Lower : Value                : Upper : Fixed : Stale : Domain\n",
            "          0 :     0 : 0.007304212629102279 :     1 : False : False : NonNegativeReals\n",
            "          1 :     0 :   0.4136929338859528 :     1 : False : False : NonNegativeReals\n",
            "          2 :     0 :   0.2227101635523738 :     1 : False : False : NonNegativeReals\n",
            "          3 :     0 :   0.2997502437516553 :     1 : False : False : NonNegativeReals\n",
            "          4 :     0 : 0.056542446180915744 :     1 : False : False : NonNegativeReals\n",
            "    y : Size=5, Index=i\n",
            "        Key : Lower : Value                 : Upper : Fixed : Stale : Domain\n",
            "          0 :     0 :     0.037291690898963 :     1 : False : False : NonNegativeReals\n",
            "          1 :     0 :    0.8141415187148765 :     1 : False : False : NonNegativeReals\n",
            "          2 :     0 :   0.09949471098027297 :     1 : False : False : NonNegativeReals\n",
            "          3 :     0 :   0.04598181365657229 :     1 : False : False : NonNegativeReals\n",
            "          4 :     0 : 0.0030902657493152366 :     1 : False : False : NonNegativeReals\n",
            "    T : Size=1, Index=None\n",
            "        Key  : Lower : Value              : Upper : Fixed : Stale : Domain\n",
            "        None : 1e-08 : 0.8243085492314726 :   1.5 : False : False : NonNegativeReals\n",
            "\n",
            "  Objectives:\n",
            "    J : Size=1, Index=None, Active=True\n",
            "        Key  : Active : Value\n",
            "        None :   True : 7.81210965427934e-06\n",
            "\n",
            "  Constraints:\n",
            "    eq2 : Size=5\n",
            "        Key : Lower : Body                 : Upper\n",
            "          0 : 0.025 : 0.024999999999999994 : 0.025\n",
            "          1 :  0.65 :                 0.65 :  0.65\n",
            "          2 :  0.15 :                 0.15 :  0.15\n",
            "          3 :  0.15 :                 0.15 :  0.15\n",
            "          4 : 0.025 : 0.024999999999999994 : 0.025\n",
            "    eq31 : Size=1\n",
            "        Key  : Lower : Body                    : Upper\n",
            "        None :   0.0 : -1.1102230246251565e-16 :   0.0\n",
            "    eq32 : Size=1\n",
            "        Key  : Lower : Body                    : Upper\n",
            "        None :   0.0 : -1.1102230246251565e-16 :   0.0\n",
            "    eq4 : Size=1\n",
            "        Key  : Lower : Body                   : Upper\n",
            "        None :   0.0 : -4.119968255444917e-17 :   0.0\n",
            "    eq5 : Size=1\n",
            "        Key  : Lower : Body                  : Upper\n",
            "        None :   0.0 : 9.660241356845845e-17 :   0.0\n",
            "    eq6 : Size=5\n",
            "        Key : Lower : Body                    : Upper\n",
            "          0 :   0.0 :   3.469446951953614e-17 :   0.0\n",
            "          1 :   0.0 :  1.7763568394002505e-15 :   0.0\n",
            "          2 :   0.0 :  2.0816681711721685e-16 :   0.0\n",
            "          3 :   0.0 : -1.0408340855860843e-16 :   0.0\n",
            "          4 :   0.0 :  -2.905661822261152e-17 :   0.0\n",
            "    eq7 : Size=1\n",
            "        Key  : Lower   : Body    : Upper\n",
            "        None : 0.92225 : 0.92225 : 0.92225\n",
            "    ieq1 : Size=1\n",
            "        Key  : Lower : Body                   : Upper\n",
            "        None :  None : -7.419732138084337e-11 :   0.0\n",
            "    ieq2 : Size=1\n",
            "        Key  : Lower : Body                  : Upper\n",
            "        None :  None : 5.671581754747486e-11 :   0.0\n",
            "    ieq3 : Size=1\n",
            "        Key  : Lower : Body               : Upper\n",
            "        None :  None : -840431398.4875042 :   0.0\n",
            "    ieq4 : Size=1\n",
            "        Key  : Lower : Body               : Upper\n",
            "        None :  None : -907718987.8737184 :   0.0\n",
            "    ieq5 : Size=1\n",
            "        Key  : Lower : Body               : Upper\n",
            "        None :   0.0 : 0.3483251628404889 :  None\n",
            "    ieq6 : Size=1\n",
            "        Key  : Lower : Body               : Upper\n",
            "        None :   0.0 : 0.3427973945839676 :  None\n",
            "    ieq7 : Size=1\n",
            "        Key  : Lower : Body               : Upper\n",
            "        None :  None : 0.5901058839176578 :   1.0\n"
          ]
        }
      ]
    },
    {
      "cell_type": "markdown",
      "source": [
        "## Visualization\n",
        "In order to see the robustness of the solver, the same initial guess is used and the problem is solved with a range of different values for Q in PQ flash calculation. The results is plotted here.  "
      ],
      "metadata": {
        "id": "gv4clFbgrQwM"
      }
    },
    {
      "cell_type": "code",
      "source": [
        "ncomp = len(feed['comp'])\n",
        "# q_step = [0, -400.0, -435.0, -3000.0, -6000.0, -10500, -10800, -11000]\n",
        "q_step = np.linspace(0,-11000,35)\n",
        "solutions = []\n",
        "\n",
        "for q in q_step:\n",
        "  flash_spec = {'Q':q/10000, 'T':300}\n",
        "  model = flash_calcualtion(feed, init_values, flash_spec, constants, mode='pq', rho=9e5, M=1e20)\n",
        "  solver.solve(model)\n",
        "  solution = {}\n",
        "  solution['solver_convergence'] = pyo.value(model.J)\n",
        "  solution['T'] = pyo.value(model.T*300)\n",
        "  solution['V'] = pyo.value(model.V)\n",
        "  solution['x'] = [pyo.value(model.x[i]) for i in range(ncomp)]\n",
        "  solution['y'] = [pyo.value(model.y[i]) for i in range(ncomp)]\n",
        "  solutions.append(solution)\n",
        "\n"
      ],
      "metadata": {
        "id": "xL3HnmS_XazN"
      },
      "execution_count": null,
      "outputs": []
    },
    {
      "cell_type": "code",
      "source": [
        "fig, ax = plt.subplots(2,1,figsize=(6, 12))\n",
        "\n",
        "plt.subplots_adjust(wspace=0.5, hspace=0.3)\n",
        "\n",
        "ax[0].plot(q_step/1000,[sol['V'] for sol in solutions],'.-')\n",
        "ax[0].grid(True); ax[0].set_xlabel('Q (MW)'); ax[0].set_ylabel('V');ax[0].set_title('vapor fraction versus heat input');\n",
        "ax[1].plot(q_step/1000,[sol['T'] for sol in solutions],'.-')\n",
        "ax[1].grid(True); ax[1].set_xlabel('Q (MW)'); ax[1].set_ylabel('T (K)'); ax[1].set_title('temperature change versus heat input');"
      ],
      "metadata": {
        "colab": {
          "base_uri": "https://localhost:8080/",
          "height": 1000
        },
        "id": "qzPddzczbNVJ",
        "outputId": "7c1b601a-710d-4910-ae53-d434f4910aa8"
      },
      "execution_count": null,
      "outputs": [
        {
          "output_type": "display_data",
          "data": {
            "text/plain": [
              "<Figure size 600x1200 with 2 Axes>"
            ],
            "image/png": "[encoded data removed]"
          },
          "metadata": {}
        }
      ]
    },
    {
      "cell_type": "code",
      "source": [],
      "metadata": {
        "id": "6JeoB5e-Llcf"
      },
      "execution_count": null,
      "outputs": []
    }
  ]
}